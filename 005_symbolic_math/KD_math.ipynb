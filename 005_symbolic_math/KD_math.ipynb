{
 "cells": [
  {
   "cell_type": "markdown",
   "metadata": {},
   "source": [
    "# Symbolic math and apparent K_D\n",
    "\n",
    "Here we use the sympy module to aid in the derivation of expressions for the monovalent-bivalent interconversion constant."
   ]
  },
  {
   "cell_type": "code",
   "execution_count": 2,
   "metadata": {},
   "outputs": [],
   "source": [
    "%matplotlib inline\n",
    "import numpy as np\n",
    "import matplotlib.pyplot as plt\n",
    "from IPython.display import display, Markdown\n",
    "import sympy\n",
    "new_rc_params = {'text.usetex': False,\n",
    "\"svg.fonttype\": 'none'\n",
    "}\n",
    "plt.rcParams.update(new_rc_params)\n",
    "\n",
    "plt.rc('xtick', labelsize=25) \n",
    "plt.rc('ytick', labelsize=25) \n",
    "plt.rcParams.update({'font.size': 25})\n"
   ]
  },
  {
   "cell_type": "code",
   "execution_count": 3,
   "metadata": {},
   "outputs": [
    {
     "data": {
      "image/png": "[encoded data removed]",
      "text/latex": [
       "$\\displaystyle \\frac{\\partial}{\\partial x} \\left(K_{D2max} e^{- \\alpha_c \\left(- \\ell_{c} + x\\right)} + \\frac{K_{D2max}}{1 + e^{- \\alpha_t \\left(- \\ell_{t} + x\\right)}}\\right)$"
      ],
      "text/plain": [
       "∂ ⎛           -\\alpha_c⋅(-\\ell_{c} + x)             K_{D2max}           ⎞\n",
       "──⎜K_{D2max}⋅ℯ                          + ──────────────────────────────⎟\n",
       "∂x⎜                                            -\\alpha_t⋅(-\\ell_{t} + x)⎟\n",
       "  ⎝                                       1 + ℯ                         ⎠"
      ]
     },
     "metadata": {},
     "output_type": "display_data"
    },
    {
     "data": {
      "text/markdown": [
       "$=$"
      ],
      "text/plain": [
       "<IPython.core.display.Markdown object>"
      ]
     },
     "metadata": {},
     "output_type": "display_data"
    },
    {
     "data": {
      "image/png": "[encoded data removed]",
      "text/latex": [
       "$\\displaystyle \\frac{K_{D2max} \\alpha_t \\left(\\left(e^{\\alpha_t \\left(\\ell_{t} - x\\right)} + 1\\right) e^{\\alpha_c \\left(\\ell_{c} - x\\right)} + 1\\right) e^{\\alpha_t \\left(\\ell_{t} - x\\right)}}{\\left(e^{\\alpha_t \\left(\\ell_{t} - x\\right)} + 1\\right)^{2}} + \\frac{K_{D2max} \\left(- \\alpha_c \\left(e^{\\alpha_t \\left(\\ell_{t} - x\\right)} + 1\\right) e^{\\alpha_c \\left(\\ell_{c} - x\\right)} - \\alpha_t e^{\\alpha_c \\left(\\ell_{c} - x\\right)} e^{\\alpha_t \\left(\\ell_{t} - x\\right)}\\right)}{e^{\\alpha_t \\left(\\ell_{t} - x\\right)} + 1}$"
      ],
      "text/plain": [
       "                   ⎛⎛ \\alpha_t⋅(\\ell_{t} - x)    ⎞  \\alpha_c⋅(\\ell_{c} - x)   \n",
       "K_{D2max}⋅\\alpha_t⋅⎝⎝ℯ                        + 1⎠⋅ℯ                        + \n",
       "──────────────────────────────────────────────────────────────────────────────\n",
       "                                                                   2          \n",
       "                                     ⎛ \\alpha_t⋅(\\ell_{t} - x)    ⎞           \n",
       "                                     ⎝ℯ                        + 1⎠           \n",
       "\n",
       " ⎞  \\alpha_t⋅(\\ell_{t} - x)             ⎛           ⎛ \\alpha_t⋅(\\ell_{t} - x) \n",
       "1⎠⋅ℯ                          K_{D2max}⋅⎝- \\alpha_c⋅⎝ℯ                        \n",
       "─────────────────────────── + ────────────────────────────────────────────────\n",
       "                                                                              \n",
       "                                                                              \n",
       "                                                                              \n",
       "\n",
       "   ⎞  \\alpha_c⋅(\\ell_{c} - x)             \\alpha_c⋅(\\ell_{c} - x)  \\alpha_t⋅(\\\n",
       "+ 1⎠⋅ℯ                        - \\alpha_t⋅ℯ                       ⋅ℯ           \n",
       "──────────────────────────────────────────────────────────────────────────────\n",
       "         \\alpha_t⋅(\\ell_{t} - x)                                              \n",
       "        ℯ                        + 1                                          \n",
       "                                                                              \n",
       "\n",
       "ell_{t} - x)⎞\n",
       "            ⎠\n",
       "─────────────\n",
       "             \n",
       "             \n",
       "             "
      ]
     },
     "metadata": {},
     "output_type": "display_data"
    },
    {
     "data": {
      "image/png": "[encoded data removed]",
      "text/latex": [
       "$\\displaystyle \\frac{\\partial}{\\partial x} \\left(K_{D2max} e^{- \\alpha_c \\left(- \\ell_{c} + x\\right)} + \\frac{K_{D2max}}{1 + e^{- \\alpha_t \\left(- \\ell_{t} + x\\right)}}\\right) = 0$"
      ],
      "text/plain": [
       "∂ ⎛           -\\alpha_c⋅(-\\ell_{c} + x)             K_{D2max}           ⎞    \n",
       "──⎜K_{D2max}⋅ℯ                          + ──────────────────────────────⎟ = 0\n",
       "∂x⎜                                            -\\alpha_t⋅(-\\ell_{t} + x)⎟    \n",
       "  ⎝                                       1 + ℯ                         ⎠    "
      ]
     },
     "metadata": {},
     "output_type": "display_data"
    }
   ],
   "source": [
    "sympy.init_printing()\n",
    "from sympy import E\n",
    "from sympy import solveset, symbols, Interval, Min\n",
    "KD2max, tension_length, tension_pow, compress_length, compress_pow, x = sympy.symbols(\"K_{D2max} \\\\ell_{t} \\\\alpha_t \\\\ell_{c} \\\\alpha_c x\")\n",
    "expr = KD2max/(1 + E**(-1*tension_pow*(x-tension_length))) + KD2max*E**(-1*compress_pow*(x-compress_length))\n",
    "expr_diff = sympy.Derivative(expr, x)  \n",
    "minimum = sympy.Eq(expr_diff, 0)\n",
    "display(expr_diff, Markdown(\"$=$\"),sympy.simplify(expr_diff))\n",
    "# min_numerical = minimum.subs([(coeffa,compa),(alpha,compb),(coeffb,stretcha),(beta,stretchb)])\n",
    "xmin = sympy.solve(minimum,x)\n",
    "# xmin_numerical = xmin[0].subs([(coeffa,compa),(alpha,compb),(coeffb,stretcha),(beta,stretchb)])\n",
    "display(minimum)\n",
    "\n",
    "\n",
    "lower_bound = 0\n",
    "upper_bound = 30\n",
    "\n",
    "# zeros = solveset(expr, x, domain=Interval(lower_bound, upper_bound))\n",
    "# assert zeros.is_FiniteSet # If there are infinite solutions the next line will hang.\n",
    "# ans = Min(function.subs(x, lower_bound), function.subs(x, upper_bound), *[function.subs(x, i) for i in zeros])\n",
    "# display(Markdown(\"$x_{min}=$\"),minimum)\n",
    "# xminval = ((alpha_t*l_c)/(alpha_c*l_t))**(1/(alpha_c-alpha_t))\n",
    "# display(Markdown(\"$x_{min}=\"+str(xminval)+\"$\"))"
   ]
  },
  {
   "cell_type": "code",
   "execution_count": 4,
   "metadata": {},
   "outputs": [
    {
     "data": {
      "text/markdown": [
       "$rate law A$"
      ],
      "text/plain": [
       "<IPython.core.display.Markdown object>"
      ]
     },
     "metadata": {},
     "output_type": "display_data"
    },
    {
     "data": {
      "image/png": "[encoded data removed]",
      "text/latex": [
       "$\\displaystyle - 2 c_{ab} k_{1} p_A^{eq} + k_{-1} p_B^{eq} + k_{-1} p_C^{eq} = 0$"
      ],
      "text/plain": [
       "-2⋅c_{ab}⋅k₁⋅p_A__{eq} + k_{-1}⋅p_B__{eq} + k_{-1}⋅p_C__{eq} = 0"
      ]
     },
     "metadata": {},
     "output_type": "display_data"
    },
    {
     "data": {
      "text/markdown": [
       "$rate law B$"
      ],
      "text/plain": [
       "<IPython.core.display.Markdown object>"
      ]
     },
     "metadata": {},
     "output_type": "display_data"
    },
    {
     "data": {
      "image/png": "[encoded data removed]",
      "text/latex": [
       "$\\displaystyle c_{ab} k_{1} p_A^{eq} - c_{ab} k_{1} p_B^{eq} - k_{2} p_B^{eq} - k_{-1} p_B^{eq} + k_{-1} p_E^{eq} + k_{-2} p_D^{eq} = 0$"
      ],
      "text/plain": [
       "c_{ab}⋅k₁⋅p_A__{eq} - c_{ab}⋅k₁⋅p_B__{eq} - k₂⋅p_B__{eq} - k_{-1}⋅p_B__{eq} + \n",
       "k_{-1}⋅p_E__{eq} + k_{-2}⋅p_D__{eq} = 0"
      ]
     },
     "metadata": {},
     "output_type": "display_data"
    },
    {
     "data": {
      "text/markdown": [
       "$rate law C$"
      ],
      "text/plain": [
       "<IPython.core.display.Markdown object>"
      ]
     },
     "metadata": {},
     "output_type": "display_data"
    },
    {
     "data": {
      "image/png": "[encoded data removed]",
      "text/latex": [
       "$\\displaystyle c_{ab} k_{1} p_A^{eq} - c_{ab} k_{1} p_C^{eq} - k_{2} p_C^{eq} - k_{-1} p_C^{eq} + k_{-1} p_E^{eq} + k_{-2} p_D^{eq} = 0$"
      ],
      "text/plain": [
       "c_{ab}⋅k₁⋅p_A__{eq} - c_{ab}⋅k₁⋅p_C__{eq} - k₂⋅p_C__{eq} - k_{-1}⋅p_C__{eq} + \n",
       "k_{-1}⋅p_E__{eq} + k_{-2}⋅p_D__{eq} = 0"
      ]
     },
     "metadata": {},
     "output_type": "display_data"
    },
    {
     "data": {
      "text/markdown": [
       "$rate law D$"
      ],
      "text/plain": [
       "<IPython.core.display.Markdown object>"
      ]
     },
     "metadata": {},
     "output_type": "display_data"
    },
    {
     "data": {
      "image/png": "[encoded data removed]",
      "text/latex": [
       "$\\displaystyle k_{2} p_B^{eq} + k_{2} p_C^{eq} - 2 k_{-2} p_D^{eq} = 0$"
      ],
      "text/plain": [
       "k₂⋅p_B__{eq} + k₂⋅p_C__{eq} - 2⋅k_{-2}⋅p_D__{eq} = 0"
      ]
     },
     "metadata": {},
     "output_type": "display_data"
    },
    {
     "data": {
      "text/markdown": [
       "$rate law E$"
      ],
      "text/plain": [
       "<IPython.core.display.Markdown object>"
      ]
     },
     "metadata": {},
     "output_type": "display_data"
    },
    {
     "data": {
      "image/png": "[encoded data removed]",
      "text/latex": [
       "$\\displaystyle c_{ab} k_{1} p_B^{eq} + c_{ab} k_{1} p_C^{eq} - 2 k_{-1} p_E^{eq} = 0$"
      ],
      "text/plain": [
       "c_{ab}⋅k₁⋅p_B__{eq} + c_{ab}⋅k₁⋅p_C__{eq} - 2⋅k_{-1}⋅p_E__{eq} = 0"
      ]
     },
     "metadata": {},
     "output_type": "display_data"
    },
    {
     "data": {
      "text/markdown": [
       "$S_{\\_,\\_} = $"
      ],
      "text/plain": [
       "<IPython.core.display.Markdown object>"
      ]
     },
     "metadata": {},
     "output_type": "display_data"
    },
    {
     "data": {
      "image/png": "[encoded data removed]",
      "text/latex": [
       "$\\displaystyle \\frac{k_{-1}^{2} k_{-2}}{c_{ab}^{2} k_{1}^{2} k_{-2} + c_{ab} k_{1} k_{2} k_{-1} + 2 c_{ab} k_{1} k_{-1} k_{-2} + k_{-1}^{2} k_{-2}}$"
      ],
      "text/plain": [
       "                                          2                                   \n",
       "                                    k_{-1} ⋅k_{-2}                            \n",
       "──────────────────────────────────────────────────────────────────────────────\n",
       "      2   2                                                                  2\n",
       "c_{ab} ⋅k₁ ⋅k_{-2} + c_{ab}⋅k₁⋅k₂⋅k_{-1} + 2⋅c_{ab}⋅k₁⋅k_{-1}⋅k_{-2} + k_{-1} \n",
       "\n",
       "       \n",
       "       \n",
       "───────\n",
       "       \n",
       "⋅k_{-2}"
      ]
     },
     "metadata": {},
     "output_type": "display_data"
    },
    {
     "data": {
      "text/markdown": [
       "$S_{Ab,\\_} = $"
      ],
      "text/plain": [
       "<IPython.core.display.Markdown object>"
      ]
     },
     "metadata": {},
     "output_type": "display_data"
    },
    {
     "data": {
      "image/png": "[encoded data removed]",
      "text/latex": [
       "$\\displaystyle \\frac{c_{ab} k_{1} k_{-1} k_{-2}}{c_{ab}^{2} k_{1}^{2} k_{-2} + c_{ab} k_{1} k_{2} k_{-1} + 2 c_{ab} k_{1} k_{-1} k_{-2} + k_{-1}^{2} k_{-2}}$"
      ],
      "text/plain": [
       "                               c_{ab}⋅k₁⋅k_{-1}⋅k_{-2}                        \n",
       "──────────────────────────────────────────────────────────────────────────────\n",
       "      2   2                                                                  2\n",
       "c_{ab} ⋅k₁ ⋅k_{-2} + c_{ab}⋅k₁⋅k₂⋅k_{-1} + 2⋅c_{ab}⋅k₁⋅k_{-1}⋅k_{-2} + k_{-1} \n",
       "\n",
       "       \n",
       "───────\n",
       "       \n",
       "⋅k_{-2}"
      ]
     },
     "metadata": {},
     "output_type": "display_data"
    },
    {
     "data": {
      "text/markdown": [
       "$S_{\\_,Ab} = $"
      ],
      "text/plain": [
       "<IPython.core.display.Markdown object>"
      ]
     },
     "metadata": {},
     "output_type": "display_data"
    },
    {
     "data": {
      "image/png": "[encoded data removed]",
      "text/latex": [
       "$\\displaystyle \\frac{c_{ab} k_{1} k_{-1} k_{-2}}{c_{ab}^{2} k_{1}^{2} k_{-2} + c_{ab} k_{1} k_{2} k_{-1} + 2 c_{ab} k_{1} k_{-1} k_{-2} + k_{-1}^{2} k_{-2}}$"
      ],
      "text/plain": [
       "                               c_{ab}⋅k₁⋅k_{-1}⋅k_{-2}                        \n",
       "──────────────────────────────────────────────────────────────────────────────\n",
       "      2   2                                                                  2\n",
       "c_{ab} ⋅k₁ ⋅k_{-2} + c_{ab}⋅k₁⋅k₂⋅k_{-1} + 2⋅c_{ab}⋅k₁⋅k_{-1}⋅k_{-2} + k_{-1} \n",
       "\n",
       "       \n",
       "───────\n",
       "       \n",
       "⋅k_{-2}"
      ]
     },
     "metadata": {},
     "output_type": "display_data"
    },
    {
     "data": {
      "text/markdown": [
       "$S_{.Ab.} = $"
      ],
      "text/plain": [
       "<IPython.core.display.Markdown object>"
      ]
     },
     "metadata": {},
     "output_type": "display_data"
    },
    {
     "data": {
      "image/png": "[encoded data removed]",
      "text/latex": [
       "$\\displaystyle \\frac{c_{ab} k_{1} k_{2} k_{-1}}{c_{ab}^{2} k_{1}^{2} k_{-2} + c_{ab} k_{1} k_{2} k_{-1} + 2 c_{ab} k_{1} k_{-1} k_{-2} + k_{-1}^{2} k_{-2}}$"
      ],
      "text/plain": [
       "                                 c_{ab}⋅k₁⋅k₂⋅k_{-1}                          \n",
       "──────────────────────────────────────────────────────────────────────────────\n",
       "      2   2                                                                  2\n",
       "c_{ab} ⋅k₁ ⋅k_{-2} + c_{ab}⋅k₁⋅k₂⋅k_{-1} + 2⋅c_{ab}⋅k₁⋅k_{-1}⋅k_{-2} + k_{-1} \n",
       "\n",
       "       \n",
       "───────\n",
       "       \n",
       "⋅k_{-2}"
      ]
     },
     "metadata": {},
     "output_type": "display_data"
    },
    {
     "data": {
      "text/markdown": [
       "$S_{Ab,Ab} = $"
      ],
      "text/plain": [
       "<IPython.core.display.Markdown object>"
      ]
     },
     "metadata": {},
     "output_type": "display_data"
    },
    {
     "data": {
      "image/png": "[encoded data removed]",
      "text/latex": [
       "$\\displaystyle \\frac{c_{ab}^{2} k_{1}^{2} k_{-2}}{c_{ab}^{2} k_{1}^{2} k_{-2} + c_{ab} k_{1} k_{2} k_{-1} + 2 c_{ab} k_{1} k_{-1} k_{-2} + k_{-1}^{2} k_{-2}}$"
      ],
      "text/plain": [
       "                                        2   2                                 \n",
       "                                  c_{ab} ⋅k₁ ⋅k_{-2}                          \n",
       "──────────────────────────────────────────────────────────────────────────────\n",
       "      2   2                                                                  2\n",
       "c_{ab} ⋅k₁ ⋅k_{-2} + c_{ab}⋅k₁⋅k₂⋅k_{-1} + 2⋅c_{ab}⋅k₁⋅k_{-1}⋅k_{-2} + k_{-1} \n",
       "\n",
       "       \n",
       "       \n",
       "───────\n",
       "       \n",
       "⋅k_{-2}"
      ]
     },
     "metadata": {},
     "output_type": "display_data"
    },
    {
     "data": {
      "text/markdown": [
       "$o_{eq}$"
      ],
      "text/plain": [
       "<IPython.core.display.Markdown object>"
      ]
     },
     "metadata": {},
     "output_type": "display_data"
    },
    {
     "data": {
      "image/png": "[encoded data removed]",
      "text/latex": [
       "$\\displaystyle \\frac{c_{ab} k_{1} \\left(2 c_{ab} k_{1} k_{-2} + k_{-1} \\left(k_{2} + 2 k_{-2}\\right)\\right)}{c_{ab}^{2} k_{1}^{2} k_{-2} + c_{ab} k_{1} k_{2} k_{-1} + 2 c_{ab} k_{1} k_{-1} k_{-2} + k_{-1}^{2} k_{-2}}$"
      ],
      "text/plain": [
       "               c_{ab}⋅k₁⋅(2⋅c_{ab}⋅k₁⋅k_{-2} + k_{-1}⋅(k₂ + 2⋅k_{-2}))        \n",
       "──────────────────────────────────────────────────────────────────────────────\n",
       "      2   2                                                                  2\n",
       "c_{ab} ⋅k₁ ⋅k_{-2} + c_{ab}⋅k₁⋅k₂⋅k_{-1} + 2⋅c_{ab}⋅k₁⋅k_{-1}⋅k_{-2} + k_{-1} \n",
       "\n",
       "       \n",
       "───────\n",
       "       \n",
       "⋅k_{-2}"
      ]
     },
     "metadata": {},
     "output_type": "display_data"
    },
    {
     "data": {
      "text/markdown": [
       "$equilibrium occupancy: O_{eq}$"
      ],
      "text/plain": [
       "<IPython.core.display.Markdown object>"
      ]
     },
     "metadata": {},
     "output_type": "display_data"
    },
    {
     "data": {
      "image/png": "[encoded data removed]",
      "text/latex": [
       "$\\displaystyle \\frac{c_{ab} k_{1} \\left(2 c_{ab} k_{1} k_{-2} + k_{-1} \\left(k_{2} + 2 k_{-2}\\right)\\right)}{c_{ab}^{2} k_{1}^{2} k_{-2} + c_{ab} k_{1} k_{2} k_{-1} + 2 c_{ab} k_{1} k_{-1} k_{-2} + k_{-1}^{2} k_{-2}}$"
      ],
      "text/plain": [
       "               c_{ab}⋅k₁⋅(2⋅c_{ab}⋅k₁⋅k_{-2} + k_{-1}⋅(k₂ + 2⋅k_{-2}))        \n",
       "──────────────────────────────────────────────────────────────────────────────\n",
       "      2   2                                                                  2\n",
       "c_{ab} ⋅k₁ ⋅k_{-2} + c_{ab}⋅k₁⋅k₂⋅k_{-1} + 2⋅c_{ab}⋅k₁⋅k_{-1}⋅k_{-2} + k_{-1} \n",
       "\n",
       "       \n",
       "───────\n",
       "       \n",
       "⋅k_{-2}"
      ]
     },
     "metadata": {},
     "output_type": "display_data"
    },
    {
     "data": {
      "text/markdown": [
       "$K_{Dapp} =$"
      ],
      "text/plain": [
       "<IPython.core.display.Markdown object>"
      ]
     },
     "metadata": {},
     "output_type": "display_data"
    },
    {
     "data": {
      "image/png": "[encoded data removed]",
      "text/latex": [
       "$\\displaystyle - \\frac{k_{-2} \\left(c_{ab}^{2} k_{1}^{2} - k_{-1}^{2}\\right)}{k_{1} \\left(2 c_{ab} k_{1} k_{-2} + k_{2} k_{-1} + 2 k_{-1} k_{-2}\\right)}$"
      ],
      "text/plain": [
       "                   ⎛      2   2         2⎞           \n",
       "           -k_{-2}⋅⎝c_{ab} ⋅k₁  - k_{-1} ⎠           \n",
       "─────────────────────────────────────────────────────\n",
       "k₁⋅(2⋅c_{ab}⋅k₁⋅k_{-2} + k₂⋅k_{-1} + 2⋅k_{-1}⋅k_{-2})"
      ]
     },
     "metadata": {},
     "output_type": "display_data"
    },
    {
     "data": {
      "text/markdown": [
       "$K_{Dapp} =$"
      ],
      "text/plain": [
       "<IPython.core.display.Markdown object>"
      ]
     },
     "metadata": {},
     "output_type": "display_data"
    },
    {
     "data": {
      "image/png": "[encoded data removed]",
      "text/latex": [
       "$\\displaystyle - \\frac{k_{-2} \\left(c_{ab}^{2} k_{1}^{2} - k_{-1}^{2}\\right)}{k_{1} \\left(2 c_{ab} k_{1} k_{-2} + k_{2} k_{-1} + 2 k_{-1} k_{-2}\\right)}$"
      ],
      "text/plain": [
       "                   ⎛      2   2         2⎞           \n",
       "           -k_{-2}⋅⎝c_{ab} ⋅k₁  - k_{-1} ⎠           \n",
       "─────────────────────────────────────────────────────\n",
       "k₁⋅(2⋅c_{ab}⋅k₁⋅k_{-2} + k₂⋅k_{-1} + 2⋅k_{-1}⋅k_{-2})"
      ]
     },
     "metadata": {},
     "output_type": "display_data"
    }
   ],
   "source": [
    "# from IPython.display import display\n",
    "sympy.init_printing()\n",
    "kp1, km1, kp2, km2, cab = sympy.symbols(\"k_1 k_{-1} k_2 k_{-2} c_{ab}\", integer=True)\n",
    "pA, pB, pC, pD, pE, KD2, KD1 = sympy.symbols(\"p_A p_B p_C p_D p_E K_{D2} K_{D1}\")\n",
    "pAeq, pBeq, pCeq, pDeq, pEeq = sympy.symbols(\"p_A^{eq} p_B^{eq} p_C^{eq} p_D^{eq} p_E^{eq}\", integer=True)\n",
    "A_eq, B_eq, C_eq, D_eq, E_eq = sympy.symbols(\"S_{\\_\\_}  S_{Ab\\_}  S_{\\_Ab}  S_{.Ab.}  S_{AbAb}\")\n",
    "ratelaw_A = sympy.Eq(km1*pBeq  +  km1*pCeq  -  kp1*cab*pAeq  -  kp1*cab*pAeq, 0)\n",
    "ratelaw_B = sympy.Eq(kp1*cab*pAeq + km1*pEeq + km2*pDeq - km1*pBeq - kp2*pBeq - kp1*cab*pBeq, 0)\n",
    "ratelaw_C = sympy.Eq(kp1*cab*pAeq + km1*pEeq + km2*pDeq - km1*pCeq - kp2*pCeq - kp1*cab*pCeq, 0)\n",
    "ratelaw_D = sympy.Eq(kp2*pBeq  +  kp2*pCeq  -  2*km2*pDeq, 0)\n",
    "ratelaw_E = sympy.Eq(kp1*cab*pBeq  +  kp1*cab*pCeq  -  2*km1*pEeq, 0)\n",
    "display(Markdown(\"$rate law A$\"),ratelaw_A)\n",
    "display(Markdown(\"$rate law B$\"),ratelaw_B)\n",
    "display(Markdown(\"$rate law C$\"),ratelaw_C)\n",
    "display(Markdown(\"$rate law D$\"),ratelaw_D)\n",
    "display(Markdown(\"$rate law E$\"),ratelaw_E)\n",
    "\n",
    "norm_condition = sympy.Eq(pAeq + pBeq + pCeq + pDeq + pEeq, 1)\n",
    "sol = sympy.solve((ratelaw_A,ratelaw_B,ratelaw_C,ratelaw_D,ratelaw_E,norm_condition),(pAeq, pBeq, pCeq, pDeq, pEeq))\n",
    "A_eq = sympy.simplify(sol[pAeq])\n",
    "B_eq = sympy.simplify(sol[pBeq])\n",
    "C_eq = sympy.simplify(sol[pCeq])\n",
    "D_eq = sympy.simplify(sol[pDeq])\n",
    "E_eq = sympy.simplify(sol[pEeq])\n",
    "\n",
    "display(Markdown(\"$S_{\\_,\\_} = $\"),A_eq)\n",
    "display(Markdown(\"$S_{Ab,\\_} = $\"),B_eq)\n",
    "display(Markdown(\"$S_{\\_,Ab} = $\"),C_eq)\n",
    "display(Markdown(\"$S_{.Ab.} = $\"),D_eq)\n",
    "display(Markdown(\"$S_{Ab,Ab} = $\"),E_eq)\n",
    "\n",
    "\n",
    "X_eq = sympy.simplify(sol[pBeq] + sol[pDeq] +sol[pCeq])\n",
    "O_eq = sympy.simplify(X_eq + 2*E_eq)\n",
    "O_eq2 = sympy.simplify(1- A_eq + E_eq)\n",
    "\n",
    "KD_apparent = sympy.simplify(cab*(1-O_eq)/O_eq)\n",
    "KD_apparent2 = sympy.simplify(cab*(1-O_eq2)/O_eq2)\n",
    "\n",
    "display(Markdown(\"$o_{eq}$\"),O_eq)\n",
    "\n",
    "display(Markdown(\"$equilibrium occupancy: O_{eq}$\"),O_eq)\n",
    "\n",
    "\n",
    "KD_apparent = sympy.simplify(KD_apparent) \n",
    "KD_apparent_2 = sympy.simplify(KD_apparent2)\n",
    "# sympy.init_printing()\n",
    "display(Markdown(\"$K_{Dapp} =$\"),KD_apparent)\n",
    "display(Markdown(\"$K_{Dapp} =$\"),KD_apparent_2)\n",
    "\n",
    "\n"
   ]
  },
  {
   "cell_type": "markdown",
   "metadata": {},
   "source": [
    "Solution to system of equilibrium equations for Aeq. \n",
    "$p_A^{eq} = \\displaystyle \\frac{k_{-1}^{2} k_{-2}}{\\phi^{2} k_{1}^{2} k_{-2} + \\phi k_{1} k_{2} k_{-1} + 2 \\phi k_{1} k_{-1} k_{-2} + k_{-1}^{2} k_{-2}}$\n",
    "\n",
    "Solution to K_AZ the apparent dissociation constant:\n",
    "$K_{AZ} = \\displaystyle \\frac{k_{-1}^{2} k_{-2}}{\\phi k_{1} \\left(\\phi k_{1} k_{-2} + k_{2} k_{-1} + 2 k_{-1} k_{-2}\\right)} = \\displaystyle \\frac{K_{D2} k_{-1}^{2}}{k_{1} \\left(K_{D2} k_{1} + 2 K_{D2} k_{-1} + k_{-1}\\right)}$\n",
    "\n",
    "\n",
    "$\\displaystyle \\frac{k_{-2} \\left(c_{ab}^{2} k_{1}^{2} + k_{-1}^{2}\\right)}{k_{1} \\left(2 c_{ab} k_{1} k_{-2} + k_{2} k_{-1} + 2 k_{-1} k_{-2}\\right)}$\n"
   ]
  }
 ],
 "metadata": {
  "kernelspec": {
   "display_name": "Python 2",
   "language": "python",
   "name": "python2"
  },
  "language_info": {
   "codemirror_mode": {
    "name": "ipython",
    "version": 2
   },
   "file_extension": ".py",
   "mimetype": "text/x-python",
   "name": "python",
   "nbconvert_exporter": "python",
   "pygments_lexer": "ipython2",
   "version": "2.7.17"
  }
 },
 "nbformat": 4,
 "nbformat_minor": 2
}
